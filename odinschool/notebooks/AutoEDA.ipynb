{
 "cells": [
  {
   "cell_type": "code",
   "execution_count": null,
   "id": "4a214311",
   "metadata": {},
   "outputs": [],
   "source": [
    "import pandas\n",
    "import warnings\n",
    "warnings.filterwarnings('ignore')"
   ]
  },
  {
   "cell_type": "code",
   "execution_count": null,
   "id": "078a46b5",
   "metadata": {},
   "outputs": [],
   "source": [
    "telecom_data = pandas.read_csv(\"../data/telecom_ch.csv\")"
   ]
  },
  {
   "cell_type": "markdown",
   "id": "4ca88268",
   "metadata": {},
   "source": [
    "## Dtale"
   ]
  },
  {
   "cell_type": "code",
   "execution_count": null,
   "id": "37fd275d",
   "metadata": {},
   "outputs": [],
   "source": [
    "import dtale\n",
    "d = dtale.show(telecom_data)\n",
    "d.open_browser()"
   ]
  },
  {
   "cell_type": "markdown",
   "id": "13c69258",
   "metadata": {},
   "source": [
    "## Pandas Profilling"
   ]
  },
  {
   "cell_type": "code",
   "execution_count": null,
   "id": "ca066802",
   "metadata": {},
   "outputs": [],
   "source": [
    "import pandas_profiling\n",
    "pandas_profiling.ProfileReport(telecom_data)"
   ]
  },
  {
   "cell_type": "markdown",
   "id": "8d186a17",
   "metadata": {},
   "source": [
    "## Sweetviz"
   ]
  },
  {
   "cell_type": "code",
   "execution_count": null,
   "id": "ed0d23a2",
   "metadata": {},
   "outputs": [],
   "source": [
    "import sweetviz\n",
    "my_report  = sweetviz.analyze([telecom_data,\"Train\"], target_feat='churn')\n",
    "my_report.show_html('FinalReport.html')"
   ]
  },
  {
   "cell_type": "code",
   "execution_count": null,
   "id": "c8f8df98",
   "metadata": {},
   "outputs": [],
   "source": []
  }
 ],
 "metadata": {
  "kernelspec": {
   "display_name": "ml",
   "language": "python",
   "name": "ml"
  },
  "language_info": {
   "codemirror_mode": {
    "name": "ipython",
    "version": 3
   },
   "file_extension": ".py",
   "mimetype": "text/x-python",
   "name": "python",
   "nbconvert_exporter": "python",
   "pygments_lexer": "ipython3",
   "version": "3.9.7"
  }
 },
 "nbformat": 4,
 "nbformat_minor": 5
}
